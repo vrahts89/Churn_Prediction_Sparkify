{
 "cells": [
  {
   "cell_type": "markdown",
   "metadata": {},
   "source": [
    "# Sparkify Project Workspace\n",
    "This workspace contains a tiny subset (128MB) of the full dataset available (12GB). Feel free to use this workspace to build your project, or to explore a smaller subset with Spark before deploying your cluster on the cloud. Instructions for setting up your Spark cluster is included in the last lesson of the Extracurricular Spark Course content.\n",
    "\n",
    "You can follow the steps below to guide your data analysis and model building portion of this project."
   ]
  },
  {
   "cell_type": "code",
   "execution_count": 1,
   "metadata": {},
   "outputs": [],
   "source": [
    "# import libraries\n",
    "import pyspark\n",
    "from pyspark import SparkConf\n",
    "\n",
    "from pyspark.sql import SparkSession\n",
    "from pyspark.sql.functions import udf\n",
    "from pyspark.sql.types import StringType\n",
    "from pyspark.sql.types import IntegerType\n",
    "from pyspark.sql.functions import desc\n",
    "from pyspark.sql.functions import asc\n",
    "from pyspark.sql.functions import sum as Fsum\n",
    "from pyspark.sql.functions import col, count, when, lit, min, max, countDistinct, sum, avg, dense_rank\n",
    "from pyspark.sql.window import Window\n",
    "from pyspark.sql.functions import regexp_extract, col\n",
    "\n",
    "from pyspark.ml import Pipeline\n",
    "from pyspark.ml.classification import LogisticRegression, RandomForestClassifier, GBTClassifier, LinearSVC, NaiveBayes\n",
    "from pyspark.ml.evaluation import MulticlassClassificationEvaluator\n",
    "from pyspark.ml.feature import CountVectorizer, IDF, PCA, RegexTokenizer, VectorAssembler, Normalizer, StandardScaler\n",
    "from pyspark.ml.regression import LinearRegression\n",
    "from pyspark.ml.tuning import CrossValidator, ParamGridBuilder\n",
    "\n",
    "import datetime\n",
    "import time\n",
    "\n",
    "import numpy as np\n",
    "import pandas as pd\n",
    "%matplotlib inline\n",
    "import matplotlib.pyplot as plt\n",
    "import seaborn as sns"
   ]
  },
  {
   "cell_type": "code",
   "execution_count": 2,
   "metadata": {},
   "outputs": [],
   "source": [
    "# create a Spark session\n",
    "spark = SparkSession \\\n",
    "    .builder \\\n",
    "    .appName(\"Sparkify Project\") \\\n",
    "    .getOrCreate()"
   ]
  },
  {
   "cell_type": "markdown",
   "metadata": {},
   "source": [
    "# Load and Clean Dataset\n",
    "In this workspace, the mini-dataset file is `mini_sparkify_event_data.json`. Load and clean the dataset, checking for invalid or missing data - for example, records without userids or sessionids. "
   ]
  },
  {
   "cell_type": "code",
   "execution_count": 3,
   "metadata": {},
   "outputs": [],
   "source": [
    "path = \"mini_sparkify_event_data.json\"\n",
    "event_data = spark.read.json(path)"
   ]
  },
  {
   "cell_type": "markdown",
   "metadata": {},
   "source": [
    "### Basic Analysis\n",
    "\n",
    "in this part we will have a first look at the dataset to get a better understanding for it"
   ]
  },
  {
   "cell_type": "code",
   "execution_count": 4,
   "metadata": {},
   "outputs": [
    {
     "data": {
      "text/plain": [
       "DataFrame[summary: string, artist: string, auth: string, firstName: string, gender: string, itemInSession: string, lastName: string, length: string, level: string, location: string, method: string, page: string, registration: string, sessionId: string, song: string, status: string, ts: string, userAgent: string, userId: string]"
      ]
     },
     "execution_count": 4,
     "metadata": {},
     "output_type": "execute_result"
    }
   ],
   "source": [
    "event_data.describe()"
   ]
  },
  {
   "cell_type": "code",
   "execution_count": 5,
   "metadata": {},
   "outputs": [
    {
     "name": "stdout",
     "output_type": "stream",
     "text": [
      "root\n",
      " |-- artist: string (nullable = true)\n",
      " |-- auth: string (nullable = true)\n",
      " |-- firstName: string (nullable = true)\n",
      " |-- gender: string (nullable = true)\n",
      " |-- itemInSession: long (nullable = true)\n",
      " |-- lastName: string (nullable = true)\n",
      " |-- length: double (nullable = true)\n",
      " |-- level: string (nullable = true)\n",
      " |-- location: string (nullable = true)\n",
      " |-- method: string (nullable = true)\n",
      " |-- page: string (nullable = true)\n",
      " |-- registration: long (nullable = true)\n",
      " |-- sessionId: long (nullable = true)\n",
      " |-- song: string (nullable = true)\n",
      " |-- status: long (nullable = true)\n",
      " |-- ts: long (nullable = true)\n",
      " |-- userAgent: string (nullable = true)\n",
      " |-- userId: string (nullable = true)\n",
      "\n"
     ]
    }
   ],
   "source": [
    "event_data.printSchema()"
   ]
  },
  {
   "cell_type": "code",
   "execution_count": 6,
   "metadata": {},
   "outputs": [
    {
     "data": {
      "text/plain": [
       "286500"
      ]
     },
     "execution_count": 6,
     "metadata": {},
     "output_type": "execute_result"
    }
   ],
   "source": [
    "# show how large the dataset is\n",
    "event_data.count()"
   ]
  },
  {
   "cell_type": "code",
   "execution_count": 7,
   "metadata": {},
   "outputs": [
    {
     "name": "stdout",
     "output_type": "stream",
     "text": [
      "+--------------------+\n",
      "|                page|\n",
      "+--------------------+\n",
      "|              Cancel|\n",
      "|    Submit Downgrade|\n",
      "|         Thumbs Down|\n",
      "|                Home|\n",
      "|           Downgrade|\n",
      "|         Roll Advert|\n",
      "|              Logout|\n",
      "|       Save Settings|\n",
      "|Cancellation Conf...|\n",
      "|               About|\n",
      "| Submit Registration|\n",
      "|            Settings|\n",
      "|               Login|\n",
      "|            Register|\n",
      "|     Add to Playlist|\n",
      "|          Add Friend|\n",
      "|            NextSong|\n",
      "|           Thumbs Up|\n",
      "|                Help|\n",
      "|             Upgrade|\n",
      "+--------------------+\n",
      "only showing top 20 rows\n",
      "\n"
     ]
    }
   ],
   "source": [
    "event_data.select('page').distinct().show()"
   ]
  },
  {
   "cell_type": "code",
   "execution_count": 8,
   "metadata": {},
   "outputs": [
    {
     "name": "stdout",
     "output_type": "stream",
     "text": [
      "+--------------------+--------------------+-------------+\n",
      "|              artist|                song|           ts|\n",
      "+--------------------+--------------------+-------------+\n",
      "|      Martha Tilston|           Rockpools|1538352117000|\n",
      "|    Five Iron Frenzy|              Canada|1538352180000|\n",
      "|        Adam Lambert|   Time For Miracles|1538352394000|\n",
      "|              Enigma|Knocking On Forbi...|1538352416000|\n",
      "|           Daft Punk|Harder Better Fas...|1538352676000|\n",
      "|The All-American ...|      Don't Leave Me|1538352678000|\n",
      "|The Velvet Underg...|         Run Run Run|1538352886000|\n",
      "|        Starflyer 59|Passengers (Old A...|1538352899000|\n",
      "|                null|                null|1538352905000|\n",
      "|            Frumpies|          Fuck Kitty|1538353084000|\n",
      "+--------------------+--------------------+-------------+\n",
      "only showing top 10 rows\n",
      "\n"
     ]
    }
   ],
   "source": [
    "event_data.select(\"artist\", \"song\", \"ts\").show(n=10)"
   ]
  },
  {
   "cell_type": "markdown",
   "metadata": {},
   "source": [
    "### Missing Values & Data Cleaning\n",
    "Show how many missing values we have per column"
   ]
  },
  {
   "cell_type": "code",
   "execution_count": 9,
   "metadata": {},
   "outputs": [
    {
     "name": "stdout",
     "output_type": "stream",
     "text": [
      "+------------------+----+-----------------+-----------------+-------------+-----------------+------------------+-----+-----------------+------+----+-----------------+---------+------------------+------+---+-----------------+------+\n",
      "|            artist|auth|        firstName|           gender|itemInSession|         lastName|            length|level|         location|method|page|     registration|sessionId|              song|status| ts|        userAgent|userId|\n",
      "+------------------+----+-----------------+-----------------+-------------+-----------------+------------------+-----+-----------------+------+----+-----------------+---------+------------------+------+---+-----------------+------+\n",
      "|20.381151832460734| 0.0|2.913089005235602|2.913089005235602|          0.0|2.913089005235602|20.381151832460734|  0.0|2.913089005235602|   0.0| 0.0|2.913089005235602|      0.0|20.381151832460734|   0.0|0.0|2.913089005235602|   0.0|\n",
      "+------------------+----+-----------------+-----------------+-------------+-----------------+------------------+-----+-----------------+------+----+-----------------+---------+------------------+------+---+-----------------+------+\n",
      "\n"
     ]
    }
   ],
   "source": [
    "# Calculate the total number of rows in the DataFrame\n",
    "total_rows = event_data.count()\n",
    "\n",
    "# calculate the perecentage of missing values per column\n",
    "missing_values_count = event_data.select([\n",
    "    (count(when(col(c).isNull(), c)) / lit(total_rows) * 100).alias(c)\n",
    "    for c in event_data.columns])\n",
    "\n",
    "missing_values_count.show()"
   ]
  },
  {
   "cell_type": "markdown",
   "metadata": {},
   "source": [
    "as we can see the columns \"userId\" and \"sessionId\" do not have any missing values."
   ]
  },
  {
   "cell_type": "markdown",
   "metadata": {},
   "source": [
    "We therefore further examine these two columns"
   ]
  },
  {
   "cell_type": "code",
   "execution_count": 10,
   "metadata": {},
   "outputs": [
    {
     "name": "stdout",
     "output_type": "stream",
     "text": [
      "+---------+\n",
      "|sessionId|\n",
      "+---------+\n",
      "|        1|\n",
      "|        2|\n",
      "|        3|\n",
      "|        4|\n",
      "|        5|\n",
      "|        6|\n",
      "|        7|\n",
      "|        8|\n",
      "|        9|\n",
      "|       10|\n",
      "|       11|\n",
      "|       12|\n",
      "|       13|\n",
      "|       15|\n",
      "|       16|\n",
      "|       17|\n",
      "|       18|\n",
      "|       19|\n",
      "|       20|\n",
      "|       21|\n",
      "+---------+\n",
      "only showing top 20 rows\n",
      "\n"
     ]
    }
   ],
   "source": [
    "event_data.select(\"sessionId\").dropDuplicates().sort(\"sessionId\").show()"
   ]
  },
  {
   "cell_type": "code",
   "execution_count": 11,
   "metadata": {},
   "outputs": [
    {
     "name": "stdout",
     "output_type": "stream",
     "text": [
      "+------+\n",
      "|userId|\n",
      "+------+\n",
      "|      |\n",
      "|    10|\n",
      "|   100|\n",
      "|100001|\n",
      "|100002|\n",
      "|100003|\n",
      "|100004|\n",
      "|100005|\n",
      "|100006|\n",
      "|100007|\n",
      "|100008|\n",
      "|100009|\n",
      "|100010|\n",
      "|100011|\n",
      "|100012|\n",
      "|100013|\n",
      "|100014|\n",
      "|100015|\n",
      "|100016|\n",
      "|100017|\n",
      "+------+\n",
      "only showing top 20 rows\n",
      "\n"
     ]
    }
   ],
   "source": [
    "event_data.select(\"userId\").dropDuplicates().sort(\"userId\").show()"
   ]
  },
  {
   "cell_type": "markdown",
   "metadata": {},
   "source": [
    "we can see that the columns \"userId\" has empty strings as values. we therefore need to clean it."
   ]
  },
  {
   "cell_type": "code",
   "execution_count": 12,
   "metadata": {},
   "outputs": [],
   "source": [
    "#remove all the empty string values for the userid\n",
    "event_data = event_data.filter(event_data[\"userId\"] != \"\")"
   ]
  },
  {
   "cell_type": "markdown",
   "metadata": {},
   "source": [
    "### Cleaned Data"
   ]
  },
  {
   "cell_type": "code",
   "execution_count": 13,
   "metadata": {},
   "outputs": [
    {
     "data": {
      "text/plain": [
       "278154"
      ]
     },
     "execution_count": 13,
     "metadata": {},
     "output_type": "execute_result"
    }
   ],
   "source": [
    "event_data.count()"
   ]
  },
  {
   "cell_type": "markdown",
   "metadata": {},
   "source": [
    "8346 rows were dropped (286500 - 278154)"
   ]
  },
  {
   "cell_type": "markdown",
   "metadata": {},
   "source": [
    "# Exploratory Data Analysis\n",
    "When you're working with the full dataset, perform EDA by loading a small subset of the data and doing basic manipulations within Spark. In this workspace, you are already provided a small subset of data you can explore.\n",
    "\n",
    "### Define Churn\n",
    "\n",
    "Once you've done some preliminary analysis, create a column `Churn` to use as the label for your model. I suggest using the `Cancellation Confirmation` events to define your churn, which happen for both paid and free users. As a bonus task, you can also look into the `Downgrade` events.\n",
    "\n",
    "### Explore Data\n",
    "Once you've defined churn, perform some exploratory data analysis to observe the behavior for users who stayed vs users who churned. You can start by exploring aggregates on these two groups of users, observing how much of a specific action they experienced per a certain time unit or number of songs played."
   ]
  },
  {
   "cell_type": "code",
   "execution_count": 14,
   "metadata": {},
   "outputs": [
    {
     "name": "stdout",
     "output_type": "stream",
     "text": [
      "+-------+------------------+--------------------+\n",
      "|summary|            length|                  ts|\n",
      "+-------+------------------+--------------------+\n",
      "|  count|            228108|              278154|\n",
      "|   mean|249.11718197783375|1.540958915431858E12|\n",
      "| stddev| 99.23517921058324|1.5068287123339083E9|\n",
      "|    min|           0.78322|       1538352117000|\n",
      "|    max|        3024.66567|       1543799476000|\n",
      "+-------+------------------+--------------------+\n",
      "\n"
     ]
    }
   ],
   "source": [
    "event_data.select(\"length\", \"ts\").describe().show()"
   ]
  },
  {
   "cell_type": "markdown",
   "metadata": {},
   "source": [
    "Show the disitinct values for a couple of columns to better understand the dataset"
   ]
  },
  {
   "cell_type": "code",
   "execution_count": 15,
   "metadata": {},
   "outputs": [
    {
     "name": "stdout",
     "output_type": "stream",
     "text": [
      "+---------+\n",
      "|     auth|\n",
      "+---------+\n",
      "|Cancelled|\n",
      "|Logged In|\n",
      "+---------+\n",
      "\n",
      "+------+\n",
      "|gender|\n",
      "+------+\n",
      "|     F|\n",
      "|     M|\n",
      "+------+\n",
      "\n",
      "+-----+\n",
      "|level|\n",
      "+-----+\n",
      "| free|\n",
      "| paid|\n",
      "+-----+\n",
      "\n",
      "+------+\n",
      "|method|\n",
      "+------+\n",
      "|   PUT|\n",
      "|   GET|\n",
      "+------+\n",
      "\n",
      "+--------------------+\n",
      "|                page|\n",
      "+--------------------+\n",
      "|              Cancel|\n",
      "|    Submit Downgrade|\n",
      "|         Thumbs Down|\n",
      "|                Home|\n",
      "|           Downgrade|\n",
      "|         Roll Advert|\n",
      "|              Logout|\n",
      "|       Save Settings|\n",
      "|Cancellation Conf...|\n",
      "|               About|\n",
      "|            Settings|\n",
      "|     Add to Playlist|\n",
      "|          Add Friend|\n",
      "|            NextSong|\n",
      "|           Thumbs Up|\n",
      "|                Help|\n",
      "|             Upgrade|\n",
      "|               Error|\n",
      "|      Submit Upgrade|\n",
      "+--------------------+\n",
      "\n",
      "+------+\n",
      "|status|\n",
      "+------+\n",
      "|   307|\n",
      "|   404|\n",
      "|   200|\n",
      "+------+\n",
      "\n"
     ]
    }
   ],
   "source": [
    "for column in ['auth', 'gender', 'level', 'method', 'page', 'status']:\n",
    "    event_data.select(column).distinct().show()"
   ]
  },
  {
   "cell_type": "code",
   "execution_count": 16,
   "metadata": {},
   "outputs": [
    {
     "name": "stdout",
     "output_type": "stream",
     "text": [
      "+--------------------+-----+\n",
      "|                song|count|\n",
      "+--------------------+-----+\n",
      "|                null|50046|\n",
      "|      You're The One| 1153|\n",
      "|                Undo| 1026|\n",
      "|             Revelry|  854|\n",
      "|       Sehr kosmisch|  728|\n",
      "|Horn Concerto No....|  641|\n",
      "|Dog Days Are Over...|  574|\n",
      "|             Secrets|  466|\n",
      "|        Use Somebody|  459|\n",
      "|              Canada|  435|\n",
      "+--------------------+-----+\n",
      "only showing top 10 rows\n",
      "\n"
     ]
    }
   ],
   "source": [
    "#top10 most popular songs\n",
    "event_data.groupBy('song').count().orderBy('count', ascending=False).show(10)"
   ]
  },
  {
   "cell_type": "code",
   "execution_count": 17,
   "metadata": {},
   "outputs": [
    {
     "name": "stdout",
     "output_type": "stream",
     "text": [
      "+--------------------+-----+\n",
      "|              artist|count|\n",
      "+--------------------+-----+\n",
      "|                null|50046|\n",
      "|       Kings Of Leon| 1841|\n",
      "|            Coldplay| 1813|\n",
      "|Florence + The Ma...| 1236|\n",
      "|       Dwight Yoakam| 1135|\n",
      "|            BjÃÂ¶rk| 1133|\n",
      "|      The Black Keys| 1125|\n",
      "|                Muse| 1090|\n",
      "|       Justin Bieber| 1044|\n",
      "|        Jack Johnson| 1007|\n",
      "+--------------------+-----+\n",
      "only showing top 10 rows\n",
      "\n"
     ]
    }
   ],
   "source": [
    "#top10 most popular artists\n",
    "event_data.groupBy('artist').count().orderBy('count', ascending=False).show(10)"
   ]
  },
  {
   "cell_type": "code",
   "execution_count": 18,
   "metadata": {},
   "outputs": [
    {
     "name": "stdout",
     "output_type": "stream",
     "text": [
      "+------+-----+\n",
      "|userId|count|\n",
      "+------+-----+\n",
      "|    39| 9632|\n",
      "|    92| 7230|\n",
      "|   140| 6880|\n",
      "|300011| 5732|\n",
      "|   124| 4825|\n",
      "|300021| 4659|\n",
      "|300017| 4428|\n",
      "|    85| 4370|\n",
      "|    42| 4257|\n",
      "|200023| 3769|\n",
      "+------+-----+\n",
      "only showing top 10 rows\n",
      "\n"
     ]
    }
   ],
   "source": [
    "#top10 most active users\n",
    "event_data.groupBy('userId').count().orderBy('count', ascending=False).show(10)"
   ]
  },
  {
   "cell_type": "code",
   "execution_count": 19,
   "metadata": {},
   "outputs": [
    {
     "name": "stdout",
     "output_type": "stream",
     "text": [
      "+---------+-------------+-------------+\n",
      "|sessionId|session_start|  session_end|\n",
      "+---------+-------------+-------------+\n",
      "|       29|1538352117000|1538361575000|\n",
      "|       26|1538400348000|1538413649000|\n",
      "|      474|1538929404000|1538931008000|\n",
      "|      964|1540462324000|1540463304000|\n",
      "|     1697|1541772147000|1541819651000|\n",
      "+---------+-------------+-------------+\n",
      "only showing top 5 rows\n",
      "\n"
     ]
    }
   ],
   "source": [
    "event_data.groupBy('sessionId').agg(min('ts').alias('session_start'), max('ts').alias('session_end')).show(5)"
   ]
  },
  {
   "cell_type": "code",
   "execution_count": 20,
   "metadata": {},
   "outputs": [
    {
     "name": "stdout",
     "output_type": "stream",
     "text": [
      "+--------------------+-----+\n",
      "|           userAgent|count|\n",
      "+--------------------+-----+\n",
      "|\"Mozilla/5.0 (Win...|22751|\n",
      "|\"Mozilla/5.0 (Mac...|19611|\n",
      "|\"Mozilla/5.0 (Mac...|18448|\n",
      "|\"Mozilla/5.0 (Mac...|17348|\n",
      "|Mozilla/5.0 (Wind...|16700|\n",
      "|\"Mozilla/5.0 (Win...|15395|\n",
      "|\"Mozilla/5.0 (Win...|14598|\n",
      "|Mozilla/5.0 (Maci...|10300|\n",
      "|\"Mozilla/5.0 (iPa...| 8912|\n",
      "|Mozilla/5.0 (comp...| 8624|\n",
      "+--------------------+-----+\n",
      "only showing top 10 rows\n",
      "\n"
     ]
    }
   ],
   "source": [
    "event_data.groupBy('userAgent').count().orderBy('count', ascending=False).show(10)"
   ]
  },
  {
   "cell_type": "markdown",
   "metadata": {},
   "source": [
    "### Define Churn\n",
    "\n",
    "Here we will create a column in the dataset with the variable we want to predict (churn)"
   ]
  },
  {
   "cell_type": "code",
   "execution_count": 21,
   "metadata": {},
   "outputs": [],
   "source": [
    "#define a churn column for the cancellation confirmation event\n",
    "\n",
    "event_data = event_data.withColumn(\"Churn\", \n",
    "                                   when(col(\"page\") == \"Cancellation Confirmation\", 1).otherwise(0))"
   ]
  },
  {
   "cell_type": "code",
   "execution_count": 22,
   "metadata": {},
   "outputs": [
    {
     "data": {
      "text/plain": [
       "52"
      ]
     },
     "execution_count": 22,
     "metadata": {},
     "output_type": "execute_result"
    }
   ],
   "source": [
    "event_data.filter(col(\"Churn\") == 1).count()"
   ]
  },
  {
   "cell_type": "markdown",
   "metadata": {},
   "source": [
    "We can see we have 52 users that have churned"
   ]
  },
  {
   "cell_type": "code",
   "execution_count": 23,
   "metadata": {},
   "outputs": [],
   "source": [
    "#create a support dataframe that indicates per users if he/she has churned or not by checking if the user\n",
    "#has churned at a certain point in time\n",
    "churn_per_user = event_data.groupBy('userId').agg(max('Churn').alias(\"Churned\"))"
   ]
  },
  {
   "cell_type": "code",
   "execution_count": 24,
   "metadata": {},
   "outputs": [],
   "source": [
    "churn_matrix = churn_per_user.groupBy(\"Churned\").count()"
   ]
  },
  {
   "cell_type": "code",
   "execution_count": 25,
   "metadata": {},
   "outputs": [
    {
     "name": "stdout",
     "output_type": "stream",
     "text": [
      "+-------+-----+\n",
      "|Churned|count|\n",
      "+-------+-----+\n",
      "|      1|   52|\n",
      "|      0|  173|\n",
      "+-------+-----+\n",
      "\n"
     ]
    }
   ],
   "source": [
    "churn_matrix.show()"
   ]
  },
  {
   "cell_type": "markdown",
   "metadata": {},
   "source": [
    "We have a total of 225 userIds in this subset - 52 of them churned and 173 did not."
   ]
  },
  {
   "cell_type": "code",
   "execution_count": 26,
   "metadata": {},
   "outputs": [],
   "source": [
    "# merge the churn information with original event_data dataframe and drop the orignal churn column\n",
    "event_data = event_data.join(churn_per_user, on=\"userId\", how=\"left\").drop(\"Churn\")"
   ]
  },
  {
   "cell_type": "markdown",
   "metadata": {},
   "source": [
    "## Churn Analysis\n",
    "\n",
    "In this part we will examine the data based on churns in order to later derive the relevant parameters for the ML model"
   ]
  },
  {
   "cell_type": "markdown",
   "metadata": {},
   "source": [
    "### Churn by number of distinct artists"
   ]
  },
  {
   "cell_type": "code",
   "execution_count": 27,
   "metadata": {},
   "outputs": [],
   "source": [
    "distinct_artists = event_data.groupBy(\"userId\", \"Churned\").agg(\n",
    "    countDistinct(\"artist\").alias(\"distinct_artists_count\")\n",
    ")"
   ]
  },
  {
   "cell_type": "code",
   "execution_count": 28,
   "metadata": {
    "scrolled": false
   },
   "outputs": [
    {
     "name": "stdout",
     "output_type": "stream",
     "text": [
      "+-------+---------------------------+\n",
      "|Churned|avg(distinct_artists_count)|\n",
      "+-------+---------------------------+\n",
      "|      1|          518.6923076923077|\n",
      "|      0|          749.7861271676301|\n",
      "+-------+---------------------------+\n",
      "\n"
     ]
    }
   ],
   "source": [
    "distinct_artists.groupby('Churned').agg({\"distinct_artists_count\":\"avg\"}).show()"
   ]
  },
  {
   "cell_type": "markdown",
   "metadata": {},
   "source": [
    "### Churn by number of distinct songs"
   ]
  },
  {
   "cell_type": "code",
   "execution_count": 29,
   "metadata": {},
   "outputs": [],
   "source": [
    "distinct_songs = event_data.groupBy(\"userId\", \"Churned\").agg(\n",
    "    countDistinct(\"song\").alias(\"distinct_song_count\")\n",
    ")"
   ]
  },
  {
   "cell_type": "code",
   "execution_count": 30,
   "metadata": {
    "scrolled": false
   },
   "outputs": [
    {
     "name": "stdout",
     "output_type": "stream",
     "text": [
      "+-------+------------------------+\n",
      "|Churned|avg(distinct_song_count)|\n",
      "+-------+------------------------+\n",
      "|      1|       638.3653846153846|\n",
      "|      0|       975.7687861271677|\n",
      "+-------+------------------------+\n",
      "\n"
     ]
    }
   ],
   "source": [
    "distinct_songs.groupby('Churned').agg({\"distinct_song_count\":\"avg\"}).show()"
   ]
  },
  {
   "cell_type": "markdown",
   "metadata": {},
   "source": [
    "### Function to give out the churn rate per value for a specific column\n",
    "\n",
    "This function helps to display the churn rate per value for a specific parameter."
   ]
  },
  {
   "cell_type": "code",
   "execution_count": 31,
   "metadata": {},
   "outputs": [],
   "source": [
    "def churn_by_value(column):\n",
    "    df = event_data.groupBy(\"userId\", \"Churned\", column).count()\n",
    "    df = df.groupby('Churned', column).count()\n",
    "    distinct_values = df.select(column).distinct().rdd.flatMap(lambda x: x).collect()\n",
    "\n",
    "    # Iterate through distinct values\n",
    "    for value in distinct_values:\n",
    "        churns = df.filter((df[column]==value) & (df[\"Churned\"]==1)).agg(sum(\"count\")).first()[0]\n",
    "        if churns == None:\n",
    "            churns = 0\n",
    "        churn_rate = churns / df.filter(df[column]==value).agg(sum(\"count\")).first()[0]\n",
    "        print(f\"The churn rate for {value} is: {churn_rate}\")"
   ]
  },
  {
   "cell_type": "markdown",
   "metadata": {},
   "source": [
    "### Churn by sex"
   ]
  },
  {
   "cell_type": "code",
   "execution_count": 32,
   "metadata": {},
   "outputs": [],
   "source": [
    "gender = event_data.groupBy(\"userId\", \"Churned\", \"gender\").count()"
   ]
  },
  {
   "cell_type": "code",
   "execution_count": 33,
   "metadata": {
    "scrolled": false
   },
   "outputs": [],
   "source": [
    "gender = gender.groupby('Churned', \"gender\").count()"
   ]
  },
  {
   "cell_type": "code",
   "execution_count": 34,
   "metadata": {},
   "outputs": [
    {
     "name": "stdout",
     "output_type": "stream",
     "text": [
      "+-------+------+-----+\n",
      "|Churned|gender|count|\n",
      "+-------+------+-----+\n",
      "|      1|     F|   20|\n",
      "|      0|     M|   89|\n",
      "|      1|     M|   32|\n",
      "|      0|     F|   84|\n",
      "+-------+------+-----+\n",
      "\n"
     ]
    }
   ],
   "source": [
    "gender.show()"
   ]
  },
  {
   "cell_type": "code",
   "execution_count": 35,
   "metadata": {},
   "outputs": [
    {
     "name": "stdout",
     "output_type": "stream",
     "text": [
      "The churn rate for F is: 0.19230769230769232\n",
      "The churn rate for M is: 0.2644628099173554\n"
     ]
    }
   ],
   "source": [
    "churn_by_value(\"gender\")"
   ]
  },
  {
   "cell_type": "markdown",
   "metadata": {},
   "source": [
    "### Churn by Level"
   ]
  },
  {
   "cell_type": "code",
   "execution_count": 36,
   "metadata": {},
   "outputs": [
    {
     "name": "stdout",
     "output_type": "stream",
     "text": [
      "The churn rate for free is: 0.2358974358974359\n",
      "The churn rate for paid is: 0.21818181818181817\n"
     ]
    }
   ],
   "source": [
    "churn_by_value(\"level\")"
   ]
  },
  {
   "cell_type": "markdown",
   "metadata": {},
   "source": [
    "### Churn by Operating System & Browser\n",
    "\n",
    "Here we want to analyse the parameter userAgent further and derive the churns for OS and browser used."
   ]
  },
  {
   "cell_type": "code",
   "execution_count": 37,
   "metadata": {},
   "outputs": [],
   "source": [
    "df_os = event_data.select(\"userId\", \"userAgent\", \"Churned\").dropDuplicates(['userId'])"
   ]
  },
  {
   "cell_type": "code",
   "execution_count": 38,
   "metadata": {
    "scrolled": false
   },
   "outputs": [],
   "source": [
    "# convert to pandas\n",
    "df_os = df_os.toPandas()"
   ]
  },
  {
   "cell_type": "code",
   "execution_count": 39,
   "metadata": {},
   "outputs": [
    {
     "data": {
      "text/plain": [
       "\"Mozilla/5.0 (Windows NT 6.1; WOW64) AppleWebKit/537.36 (KHTML, like Gecko) Chrome/36.0.1985.143 Safari/537.36\"                                24\n",
       "Mozilla/5.0 (Windows NT 6.1; WOW64; rv:31.0) Gecko/20100101 Firefox/31.0                                                                       18\n",
       "\"Mozilla/5.0 (Macintosh; Intel Mac OS X 10_9_4) AppleWebKit/537.36 (KHTML, like Gecko) Chrome/36.0.1985.125 Safari/537.36\"                     16\n",
       "\"Mozilla/5.0 (Macintosh; Intel Mac OS X 10_9_4) AppleWebKit/537.77.4 (KHTML, like Gecko) Version/7.0.5 Safari/537.77.4\"                        12\n",
       "\"Mozilla/5.0 (Macintosh; Intel Mac OS X 10_9_4) AppleWebKit/537.36 (KHTML, like Gecko) Chrome/36.0.1985.143 Safari/537.36\"                     12\n",
       "\"Mozilla/5.0 (Macintosh; Intel Mac OS X 10_9_4) AppleWebKit/537.78.2 (KHTML, like Gecko) Version/7.0.6 Safari/537.78.2\"                        10\n",
       "\"Mozilla/5.0 (Windows NT 6.1; WOW64) AppleWebKit/537.36 (KHTML, like Gecko) Chrome/36.0.1985.125 Safari/537.36\"                                10\n",
       "Mozilla/5.0 (Macintosh; Intel Mac OS X 10.9; rv:31.0) Gecko/20100101 Firefox/31.0                                                               9\n",
       "\"Mozilla/5.0 (iPhone; CPU iPhone OS 7_1_2 like Mac OS X) AppleWebKit/537.51.2 (KHTML, like Gecko) Version/7.0 Mobile/11D257 Safari/9537.53\"     8\n",
       "Mozilla/5.0 (Windows NT 6.1; WOW64; Trident/7.0; rv:11.0) like Gecko                                                                            7\n",
       "\"Mozilla/5.0 (Windows NT 6.3; WOW64) AppleWebKit/537.36 (KHTML, like Gecko) Chrome/36.0.1985.143 Safari/537.36\"                                 7\n",
       "\"Mozilla/5.0 (Macintosh; Intel Mac OS X 10_9_4) AppleWebKit/537.36 (KHTML, like Gecko) Chrome/37.0.2062.94 Safari/537.36\"                       7\n",
       "\"Mozilla/5.0 (Windows NT 6.3; WOW64) AppleWebKit/537.36 (KHTML, like Gecko) Chrome/36.0.1985.125 Safari/537.36\"                                 5\n",
       "\"Mozilla/5.0 (Windows NT 6.1; WOW64) AppleWebKit/537.36 (KHTML, like Gecko) Chrome/37.0.2062.94 Safari/537.36\"                                  4\n",
       "Mozilla/5.0 (X11; Ubuntu; Linux x86_64; rv:31.0) Gecko/20100101 Firefox/31.0                                                                    4\n",
       "\"Mozilla/5.0 (Windows NT 6.1) AppleWebKit/537.36 (KHTML, like Gecko) Chrome/36.0.1985.143 Safari/537.36\"                                        4\n",
       "\"Mozilla/5.0 (Windows NT 5.1) AppleWebKit/537.36 (KHTML, like Gecko) Chrome/36.0.1985.143 Safari/537.36\"                                        4\n",
       "\"Mozilla/5.0 (iPhone; CPU iPhone OS 7_1 like Mac OS X) AppleWebKit/537.51.2 (KHTML, like Gecko) Version/7.0 Mobile/11D167 Safari/9537.53\"       4\n",
       "\"Mozilla/5.0 (X11; Linux x86_64) AppleWebKit/537.36 (KHTML, like Gecko) Chrome/36.0.1985.143 Safari/537.36\"                                     4\n",
       "Mozilla/5.0 (Windows NT 6.3; WOW64; rv:31.0) Gecko/20100101 Firefox/31.0                                                                        4\n",
       "Mozilla/5.0 (compatible; MSIE 9.0; Windows NT 6.1; WOW64; Trident/5.0)                                                                          3\n",
       "\"Mozilla/5.0 (Windows NT 6.1; WOW64) AppleWebKit/537.36 (KHTML, like Gecko) Chrome/37.0.2062.103 Safari/537.36\"                                 3\n",
       "Mozilla/5.0 (Windows NT 6.1; rv:31.0) Gecko/20100101 Firefox/31.0                                                                               3\n",
       "\"Mozilla/5.0 (Macintosh; Intel Mac OS X 10_10) AppleWebKit/600.1.8 (KHTML, like Gecko) Version/8.0 Safari/600.1.8\"                              2\n",
       "\"Mozilla/5.0 (Macintosh; Intel Mac OS X 10_9_4) AppleWebKit/537.36 (KHTML, like Gecko) Chrome/35.0.1916.153 Safari/537.36\"                      2\n",
       "Mozilla/5.0 (Macintosh; Intel Mac OS X 10.7; rv:31.0) Gecko/20100101 Firefox/31.0                                                               2\n",
       "\"Mozilla/5.0 (iPad; CPU OS 7_1_2 like Mac OS X) AppleWebKit/537.51.2 (KHTML, like Gecko) Version/7.0 Mobile/11D257 Safari/9537.53\"              2\n",
       "\"Mozilla/5.0 (Macintosh; Intel Mac OS X 10_7_5) AppleWebKit/537.77.4 (KHTML, like Gecko) Version/6.1.5 Safari/537.77.4\"                         2\n",
       "\"Mozilla/5.0 (Macintosh; Intel Mac OS X 10_9_2) AppleWebKit/537.36 (KHTML, like Gecko) Chrome/36.0.1985.125 Safari/537.36\"                      2\n",
       "Mozilla/5.0 (Windows NT 6.1; WOW64; rv:32.0) Gecko/20100101 Firefox/32.0                                                                        2\n",
       "\"Mozilla/5.0 (X11; Linux x86_64) AppleWebKit/537.36 (KHTML, like Gecko) Chrome/36.0.1985.125 Safari/537.36\"                                     2\n",
       "\"Mozilla/5.0 (Windows NT 6.1; WOW64) AppleWebKit/537.36 (KHTML, like Gecko) Chrome/35.0.1916.153 Safari/537.36\"                                 2\n",
       "\"Mozilla/5.0 (Windows NT 6.2; WOW64) AppleWebKit/537.36 (KHTML, like Gecko) Chrome/36.0.1985.143 Safari/537.36\"                                 2\n",
       "Mozilla/5.0 (Macintosh; Intel Mac OS X 10.8; rv:31.0) Gecko/20100101 Firefox/31.0                                                               1\n",
       "\"Mozilla/5.0 (Macintosh; Intel Mac OS X 10_9_3) AppleWebKit/537.76.4 (KHTML, like Gecko) Version/7.0.4 Safari/537.76.4\"                         1\n",
       "\"Mozilla/5.0 (Windows NT 6.1) AppleWebKit/537.36 (KHTML, like Gecko) Chrome/36.0.1985.125 Safari/537.36\"                                        1\n",
       "\"Mozilla/5.0 (iPhone; CPU iPhone OS 7_1_1 like Mac OS X) AppleWebKit/537.51.2 (KHTML, like Gecko) Version/7.0 Mobile/11D201 Safari/9537.53\"     1\n",
       "Mozilla/5.0 (X11; Linux x86_64; rv:31.0) Gecko/20100101 Firefox/31.0                                                                            1\n",
       "Mozilla/5.0 (X11; Ubuntu; Linux i686; rv:31.0) Gecko/20100101 Firefox/31.0                                                                      1\n",
       "Mozilla/5.0 (Windows NT 6.1; WOW64; rv:30.0) Gecko/20100101 Firefox/30.0                                                                        1\n",
       "\"Mozilla/5.0 (Macintosh; Intel Mac OS X 10_8_5) AppleWebKit/537.36 (KHTML, like Gecko) Chrome/36.0.1985.143 Safari/537.36\"                      1\n",
       "\"Mozilla/5.0 (Macintosh; Intel Mac OS X 10_7_5) AppleWebKit/537.36 (KHTML, like Gecko) Chrome/36.0.1985.125 Safari/537.36\"                      1\n",
       "\"Mozilla/5.0 (Windows NT 6.2; WOW64) AppleWebKit/537.36 (KHTML, like Gecko) Chrome/36.0.1985.125 Safari/537.36\"                                 1\n",
       "\"Mozilla/5.0 (Windows NT 5.1) AppleWebKit/537.36 (KHTML, like Gecko) Chrome/36.0.1985.125 Safari/537.36\"                                        1\n",
       "\"Mozilla/5.0 (Macintosh; Intel Mac OS X 10_9_2) AppleWebKit/537.75.14 (KHTML, like Gecko) Version/7.0.3 Safari/537.75.14\"                       1\n",
       "Mozilla/5.0 (Macintosh; Intel Mac OS X 10.6; rv:31.0) Gecko/20100101 Firefox/31.0                                                               1\n",
       "Mozilla/5.0 (Windows NT 6.1; WOW64; rv:24.0) Gecko/20100101 Firefox/24.0                                                                        1\n",
       "Mozilla/5.0 (compatible; MSIE 10.0; Windows NT 6.1; WOW64; Trident/6.0)                                                                         1\n",
       "Mozilla/5.0 (Windows NT 6.2; WOW64; rv:31.0) Gecko/20100101 Firefox/31.0                                                                        1\n",
       "\"Mozilla/5.0 (iPad; CPU OS 7_1_1 like Mac OS X) AppleWebKit/537.51.2 (KHTML, like Gecko) Version/7.0 Mobile/11D201 Safari/9537.53\"              1\n",
       "Mozilla/5.0 (compatible; MSIE 9.0; Windows NT 6.1; Trident/5.0)                                                                                 1\n",
       "\"Mozilla/5.0 (Macintosh; Intel Mac OS X 10_6_8) AppleWebKit/537.36 (KHTML, like Gecko) Chrome/36.0.1985.143 Safari/537.36\"                      1\n",
       "\"Mozilla/5.0 (Macintosh; Intel Mac OS X 10_10) AppleWebKit/600.1.3 (KHTML, like Gecko) Version/8.0 Safari/600.1.3\"                              1\n",
       "\"Mozilla/5.0 (Macintosh; Intel Mac OS X 10_8_5) AppleWebKit/537.36 (KHTML, like Gecko) Chrome/37.0.2062.94 Safari/537.36\"                       1\n",
       "\"Mozilla/5.0 (Macintosh; Intel Mac OS X 10_9_2) AppleWebKit/537.74.9 (KHTML, like Gecko) Version/7.0.2 Safari/537.74.9\"                         1\n",
       "Mozilla/5.0 (Windows NT 6.0; rv:31.0) Gecko/20100101 Firefox/31.0                                                                               1\n",
       "Name: userAgent, dtype: int64"
      ]
     },
     "execution_count": 39,
     "metadata": {},
     "output_type": "execute_result"
    }
   ],
   "source": [
    "# get the list of possible os\n",
    "df_os.userAgent.value_counts()"
   ]
  },
  {
   "cell_type": "code",
   "execution_count": 40,
   "metadata": {},
   "outputs": [],
   "source": [
    "# create list of operating systems\n",
    "os_list = [\"Mac\", \"Linux\", \"Windows\", \"iPhone\", \"iPad\"]"
   ]
  },
  {
   "cell_type": "code",
   "execution_count": 41,
   "metadata": {},
   "outputs": [],
   "source": [
    "# create os column and extract strings that match our os_list and add to column \n",
    "df_os['os'] = df_os.userAgent.str.extract('(?i)({0})'.format('|'.join(os_list)))"
   ]
  },
  {
   "cell_type": "code",
   "execution_count": 42,
   "metadata": {},
   "outputs": [],
   "source": [
    "browser_list = [\"Chrome\", \"Firefox\", \"Safari\", \"Trident\"]"
   ]
  },
  {
   "cell_type": "code",
   "execution_count": 43,
   "metadata": {},
   "outputs": [],
   "source": [
    "df_os['browser'] = df_os.userAgent.str.extract('(?i)({0})'.format('|'.join(browser_list)))"
   ]
  },
  {
   "cell_type": "code",
   "execution_count": 44,
   "metadata": {},
   "outputs": [
    {
     "data": {
      "text/html": [
       "<div>\n",
       "<style scoped>\n",
       "    .dataframe tbody tr th:only-of-type {\n",
       "        vertical-align: middle;\n",
       "    }\n",
       "\n",
       "    .dataframe tbody tr th {\n",
       "        vertical-align: top;\n",
       "    }\n",
       "\n",
       "    .dataframe thead th {\n",
       "        text-align: right;\n",
       "    }\n",
       "</style>\n",
       "<table border=\"1\" class=\"dataframe\">\n",
       "  <thead>\n",
       "    <tr style=\"text-align: right;\">\n",
       "      <th></th>\n",
       "      <th>userId</th>\n",
       "      <th>userAgent</th>\n",
       "      <th>Churned</th>\n",
       "      <th>os</th>\n",
       "      <th>browser</th>\n",
       "    </tr>\n",
       "  </thead>\n",
       "  <tbody>\n",
       "    <tr>\n",
       "      <th>0</th>\n",
       "      <td>100010</td>\n",
       "      <td>\"Mozilla/5.0 (iPhone; CPU iPhone OS 7_1_2 like...</td>\n",
       "      <td>0</td>\n",
       "      <td>iPhone</td>\n",
       "      <td>Safari</td>\n",
       "    </tr>\n",
       "    <tr>\n",
       "      <th>1</th>\n",
       "      <td>200002</td>\n",
       "      <td>\"Mozilla/5.0 (iPhone; CPU iPhone OS 7_1 like M...</td>\n",
       "      <td>0</td>\n",
       "      <td>iPhone</td>\n",
       "      <td>Safari</td>\n",
       "    </tr>\n",
       "    <tr>\n",
       "      <th>2</th>\n",
       "      <td>125</td>\n",
       "      <td>\"Mozilla/5.0 (Macintosh; Intel Mac OS X 10_9_4...</td>\n",
       "      <td>1</td>\n",
       "      <td>Mac</td>\n",
       "      <td>Chrome</td>\n",
       "    </tr>\n",
       "    <tr>\n",
       "      <th>3</th>\n",
       "      <td>124</td>\n",
       "      <td>\"Mozilla/5.0 (Macintosh; Intel Mac OS X 10_9_4...</td>\n",
       "      <td>0</td>\n",
       "      <td>Mac</td>\n",
       "      <td>Chrome</td>\n",
       "    </tr>\n",
       "    <tr>\n",
       "      <th>4</th>\n",
       "      <td>51</td>\n",
       "      <td>\"Mozilla/5.0 (Windows NT 6.1; WOW64) AppleWebK...</td>\n",
       "      <td>1</td>\n",
       "      <td>Windows</td>\n",
       "      <td>Chrome</td>\n",
       "    </tr>\n",
       "  </tbody>\n",
       "</table>\n",
       "</div>"
      ],
      "text/plain": [
       "   userId                                          userAgent  Churned  \\\n",
       "0  100010  \"Mozilla/5.0 (iPhone; CPU iPhone OS 7_1_2 like...        0   \n",
       "1  200002  \"Mozilla/5.0 (iPhone; CPU iPhone OS 7_1 like M...        0   \n",
       "2     125  \"Mozilla/5.0 (Macintosh; Intel Mac OS X 10_9_4...        1   \n",
       "3     124  \"Mozilla/5.0 (Macintosh; Intel Mac OS X 10_9_4...        0   \n",
       "4      51  \"Mozilla/5.0 (Windows NT 6.1; WOW64) AppleWebK...        1   \n",
       "\n",
       "        os browser  \n",
       "0   iPhone  Safari  \n",
       "1   iPhone  Safari  \n",
       "2      Mac  Chrome  \n",
       "3      Mac  Chrome  \n",
       "4  Windows  Chrome  "
      ]
     },
     "execution_count": 44,
     "metadata": {},
     "output_type": "execute_result"
    }
   ],
   "source": [
    "df_os.head()"
   ]
  },
  {
   "cell_type": "code",
   "execution_count": 45,
   "metadata": {},
   "outputs": [
    {
     "data": {
      "image/png": "[encoded data removed]",
      "text/plain": [
       "<matplotlib.figure.Figure at 0x7f506547ab00>"
      ]
     },
     "metadata": {
      "needs_background": "light"
     },
     "output_type": "display_data"
    }
   ],
   "source": [
    "plt.figure(figsize=[14,8])\n",
    "sns.countplot(data = df_os, x = 'os', hue ='Churned')\n",
    "plt.title('Churn by OS')\n",
    "plt.legend(loc = 1, ncol = 2, framealpha =1, title = 'Churned');"
   ]
  },
  {
   "cell_type": "code",
   "execution_count": 46,
   "metadata": {},
   "outputs": [
    {
     "name": "stdout",
     "output_type": "stream",
     "text": [
      "The Churn Rate for iPhone is 0.3076923076923077\n",
      "The Churn Rate for Mac is 0.22093023255813954\n",
      "The Churn Rate for Windows is 0.21621621621621623\n",
      "The Churn Rate for iPad is 0.0\n",
      "The Churn Rate for Linux is 0.4166666666666667\n"
     ]
    }
   ],
   "source": [
    "for value in df_os[\"os\"].unique():\n",
    "    churns = len(df_os[(df_os[\"os\"]==value) & (df_os[\"Churned\"]==1)])\n",
    "    total = len(df_os[df_os[\"os\"]==value])\n",
    "    churn_rate = churns / total\n",
    "    print(f\"The Churn Rate for {value} is {churn_rate}\")"
   ]
  },
  {
   "cell_type": "code",
   "execution_count": 47,
   "metadata": {},
   "outputs": [
    {
     "data": {
      "image/png": "[encoded data removed]",
      "text/plain": [
       "<matplotlib.figure.Figure at 0x7f50654132e8>"
      ]
     },
     "metadata": {
      "needs_background": "light"
     },
     "output_type": "display_data"
    }
   ],
   "source": [
    "plt.figure(figsize=[14,8])\n",
    "sns.countplot(data = df_os, x = 'browser', hue ='Churned')\n",
    "plt.title('Churn by Browser')\n",
    "plt.legend(loc = 1, ncol = 2, framealpha =1, title = 'Churned');"
   ]
  },
  {
   "cell_type": "code",
   "execution_count": 48,
   "metadata": {},
   "outputs": [
    {
     "name": "stdout",
     "output_type": "stream",
     "text": [
      "The Churn Rate for Safari is 0.21739130434782608\n",
      "The Churn Rate for Chrome is 0.21367521367521367\n",
      "The Churn Rate for Firefox is 0.32\n",
      "The Churn Rate for Trident is 0.08333333333333333\n"
     ]
    }
   ],
   "source": [
    "for value in df_os[\"browser\"].unique():\n",
    "    churns = len(df_os[(df_os[\"browser\"]==value) & (df_os[\"Churned\"]==1)])\n",
    "    total = len(df_os[df_os[\"browser\"]==value])\n",
    "    churn_rate = churns / total\n",
    "    print(f\"The Churn Rate for {value} is {churn_rate}\")"
   ]
  },
  {
   "cell_type": "markdown",
   "metadata": {},
   "source": [
    "### Churn by Location \n",
    "\n",
    "Here we analyse the churns based on a users location"
   ]
  },
  {
   "cell_type": "code",
   "execution_count": 49,
   "metadata": {},
   "outputs": [
    {
     "name": "stdout",
     "output_type": "stream",
     "text": [
      "+--------------------+\n",
      "|            location|\n",
      "+--------------------+\n",
      "|Atlantic City-Ham...|\n",
      "|     Gainesville, FL|\n",
      "|Deltona-Daytona B...|\n",
      "|San Diego-Carlsba...|\n",
      "|Cleveland-Elyria, OH|\n",
      "|Kingsport-Bristol...|\n",
      "|New Haven-Milford...|\n",
      "|Birmingham-Hoover...|\n",
      "|  Corpus Christi, TX|\n",
      "|         Dubuque, IA|\n",
      "+--------------------+\n",
      "only showing top 10 rows\n",
      "\n"
     ]
    }
   ],
   "source": [
    "event_data.select('location').distinct().show(10)"
   ]
  },
  {
   "cell_type": "code",
   "execution_count": 50,
   "metadata": {},
   "outputs": [],
   "source": [
    "# udf function for extracting the state of the location\n",
    "get_state = udf(lambda x: x[-2:])"
   ]
  },
  {
   "cell_type": "code",
   "execution_count": 51,
   "metadata": {},
   "outputs": [],
   "source": [
    "# create a new column with the state\n",
    "event_data = event_data.withColumn(\"state\", get_state(event_data.location))"
   ]
  },
  {
   "cell_type": "code",
   "execution_count": 52,
   "metadata": {},
   "outputs": [
    {
     "data": {
      "image/png": "[encoded data removed]",
      "text/plain": [
       "<matplotlib.figure.Figure at 0x7f5065389630>"
      ]
     },
     "metadata": {
      "needs_background": "light"
     },
     "output_type": "display_data"
    }
   ],
   "source": [
    "df_state = event_data.select(\"userId\", \"state\", \"Churned\").dropDuplicates(['userId'])\n",
    "# convert to pandas\n",
    "df = df_state.toPandas()\n",
    "\n",
    "#graph for churn by state\n",
    "plt.figure(figsize=[14,12])\n",
    "sns.countplot(data = df, y = 'state', hue ='Churned')\n",
    "plt.title('Churn by state')\n",
    "plt.legend(loc = 1, ncol = 2, framealpha =1, title = 'Churned');"
   ]
  },
  {
   "cell_type": "markdown",
   "metadata": {},
   "source": [
    "### Churn by User Actions\n",
    "\n",
    "Here we want to analyse the churns based on the user's actions and thereby analyzing the user engegement."
   ]
  },
  {
   "cell_type": "code",
   "execution_count": 53,
   "metadata": {},
   "outputs": [],
   "source": [
    "df_pages = event_data.select(\"userId\", \"page\", \"Churned\").groupBy(\"userId\",'page','Churned').count()"
   ]
  },
  {
   "cell_type": "code",
   "execution_count": 54,
   "metadata": {},
   "outputs": [],
   "source": [
    "df_pages = df_pages.groupBy(\"page\", \"Churned\").agg(avg(\"count\").alias(\"mean_count\"))"
   ]
  },
  {
   "cell_type": "code",
   "execution_count": 55,
   "metadata": {},
   "outputs": [],
   "source": [
    "df = df_pages.toPandas()"
   ]
  },
  {
   "cell_type": "code",
   "execution_count": 56,
   "metadata": {},
   "outputs": [
    {
     "data": {
      "image/png": "[encoded data removed]",
      "text/plain": [
       "<matplotlib.figure.Figure at 0x7f5065331860>"
      ]
     },
     "metadata": {
      "needs_background": "light"
     },
     "output_type": "display_data"
    }
   ],
   "source": [
    "#graph for churn by state\n",
    "plt.figure(figsize=[14,12])\n",
    "sns.barplot(data = df, x=\"mean_count\", y = 'page', hue ='Churned')\n",
    "plt.title('Churn by Page')\n",
    "plt.legend(loc = 1, ncol = 2, framealpha =1, title = 'Churned');"
   ]
  },
  {
   "cell_type": "markdown",
   "metadata": {},
   "source": [
    "In general we can see here that users with lower interaction have a higher churn rate."
   ]
  },
  {
   "cell_type": "markdown",
   "metadata": {},
   "source": [
    "### Churn by Mean Session Length"
   ]
  },
  {
   "cell_type": "code",
   "execution_count": 57,
   "metadata": {},
   "outputs": [],
   "source": [
    "df_session = event_data.select(\"sessionId\", \"Churned\", \"length\") \\\n",
    "            .groupBy('sessionId','Churned') \\\n",
    "            .agg(avg(\"length\").alias(\"mean_session_length\"))"
   ]
  },
  {
   "cell_type": "code",
   "execution_count": 58,
   "metadata": {},
   "outputs": [],
   "source": [
    "df_session = df_session.groupBy(\"Churned\").agg(avg(\"mean_session_length\").alias(\"mean_session_length\"))"
   ]
  },
  {
   "cell_type": "code",
   "execution_count": 59,
   "metadata": {},
   "outputs": [
    {
     "name": "stdout",
     "output_type": "stream",
     "text": [
      "+-------+-------------------+\n",
      "|Churned|mean_session_length|\n",
      "+-------+-------------------+\n",
      "|      1|  248.6136076433262|\n",
      "|      0|  248.6536646755348|\n",
      "+-------+-------------------+\n",
      "\n"
     ]
    }
   ],
   "source": [
    "df_session.show()"
   ]
  },
  {
   "cell_type": "markdown",
   "metadata": {},
   "source": [
    "No significant difference in session length for users who have churned and who did not."
   ]
  },
  {
   "cell_type": "markdown",
   "metadata": {},
   "source": [
    "### Churn by Songs per Session"
   ]
  },
  {
   "cell_type": "code",
   "execution_count": 60,
   "metadata": {},
   "outputs": [],
   "source": [
    "df_songs = event_data.filter(event_data.page == \"NextSong\").dropDuplicates().groupBy('sessionId','Churned').count()"
   ]
  },
  {
   "cell_type": "code",
   "execution_count": 61,
   "metadata": {},
   "outputs": [
    {
     "name": "stdout",
     "output_type": "stream",
     "text": [
      "+-------+-----------------+\n",
      "|Churned|       avg(count)|\n",
      "+-------+-----------------+\n",
      "|      1|79.81140350877193|\n",
      "|      0| 93.3369036027264|\n",
      "+-------+-----------------+\n",
      "\n"
     ]
    }
   ],
   "source": [
    "# get average grouped by churn\n",
    "df_songs.groupby('Churned').agg({\"count\":\"avg\"}).show()"
   ]
  },
  {
   "cell_type": "markdown",
   "metadata": {},
   "source": [
    "### Churn by Time between registration and last session"
   ]
  },
  {
   "cell_type": "code",
   "execution_count": 62,
   "metadata": {},
   "outputs": [],
   "source": [
    "df_delta = event_data.select(['userId', 'registration', 'ts', 'Churned']).dropDuplicates().sort('userId')"
   ]
  },
  {
   "cell_type": "code",
   "execution_count": 63,
   "metadata": {},
   "outputs": [],
   "source": [
    "# order by last timestamp\n",
    "w = Window.partitionBy(\"userId\")"
   ]
  },
  {
   "cell_type": "code",
   "execution_count": 64,
   "metadata": {},
   "outputs": [],
   "source": [
    "#create column for maximum timestamp per userid\n",
    "df_delta = df_delta.withColumn(\"max_timestamp\", max(\"ts\").over(w))"
   ]
  },
  {
   "cell_type": "code",
   "execution_count": 65,
   "metadata": {},
   "outputs": [],
   "source": [
    "# create column with delta between registration and max timestamp \n",
    "df_delta = df_delta.withColumn(\"delta\", (df_delta['max_timestamp']) - (df_delta['registration']))"
   ]
  },
  {
   "cell_type": "code",
   "execution_count": 66,
   "metadata": {},
   "outputs": [
    {
     "name": "stdout",
     "output_type": "stream",
     "text": [
      "+------+-------------+-------------+-------+-------------+----------+\n",
      "|userId| registration|           ts|Churned|max_timestamp|     delta|\n",
      "+------+-------------+-------------+-------+-------------+----------+\n",
      "|    10|1538159495000|1538965220000|      0|1542631788000|4472293000|\n",
      "|    10|1538159495000|1538965485000|      0|1542631788000|4472293000|\n",
      "|    10|1538159495000|1538965685000|      0|1542631788000|4472293000|\n",
      "|    10|1538159495000|1538965893000|      0|1542631788000|4472293000|\n",
      "|    10|1538159495000|1538966419000|      0|1542631788000|4472293000|\n",
      "|    10|1538159495000|1538966691000|      0|1542631788000|4472293000|\n",
      "|    10|1538159495000|1538966898000|      0|1542631788000|4472293000|\n",
      "|    10|1538159495000|1538966899000|      0|1542631788000|4472293000|\n",
      "|    10|1538159495000|1538967004000|      0|1542631788000|4472293000|\n",
      "|    10|1538159495000|1538967243000|      0|1542631788000|4472293000|\n",
      "|    10|1538159495000|1538967507000|      0|1542631788000|4472293000|\n",
      "|    10|1538159495000|1538967508000|      0|1542631788000|4472293000|\n",
      "|    10|1538159495000|1538967509000|      0|1542631788000|4472293000|\n",
      "|    10|1538159495000|1538967870000|      0|1542631788000|4472293000|\n",
      "|    10|1538159495000|1538968110000|      0|1542631788000|4472293000|\n",
      "|    10|1538159495000|1538968111000|      0|1542631788000|4472293000|\n",
      "|    10|1538159495000|1538968316000|      0|1542631788000|4472293000|\n",
      "|    10|1538159495000|1538968748000|      0|1542631788000|4472293000|\n",
      "|    10|1538159495000|1538968907000|      0|1542631788000|4472293000|\n",
      "|    10|1538159495000|1538969140000|      0|1542631788000|4472293000|\n",
      "+------+-------------+-------------+-------+-------------+----------+\n",
      "only showing top 20 rows\n",
      "\n"
     ]
    }
   ],
   "source": [
    "df_delta.show()"
   ]
  },
  {
   "cell_type": "code",
   "execution_count": 67,
   "metadata": {},
   "outputs": [],
   "source": [
    "df_delta = df_delta.withColumn('delta_in_days',(df_delta['delta']/1000/3600/24))"
   ]
  },
  {
   "cell_type": "code",
   "execution_count": 68,
   "metadata": {},
   "outputs": [],
   "source": [
    "# to Pandas for the plot\n",
    "df_delta_pd = df_delta.toPandas()"
   ]
  },
  {
   "cell_type": "code",
   "execution_count": 69,
   "metadata": {},
   "outputs": [
    {
     "data": {
      "image/png": "[encoded data removed]",
      "text/plain": [
       "<matplotlib.figure.Figure at 0x7f5065331be0>"
      ]
     },
     "metadata": {
      "needs_background": "light"
     },
     "output_type": "display_data"
    }
   ],
   "source": [
    "# plot boxplot\n",
    "plt.figure(figsize=[8,6])\n",
    "sns.boxplot(data = df_delta_pd, x = 'Churned', y ='delta_in_days')\n",
    "plt.title('Churn by Days since registration')\n",
    "plt.ylabel(\"Days Since Registered\");"
   ]
  },
  {
   "cell_type": "markdown",
   "metadata": {},
   "source": [
    "# Feature Engineering\n",
    "Once you've familiarized yourself with the data, build out the features you find promising to train your model on. To work with the full dataset, you can follow the following steps.\n",
    "- Write a script to extract the necessary features from the smaller subset of data\n",
    "- Ensure that your script is scalable, using the best practices discussed in Lesson 3\n",
    "- Try your script on the full data set, debugging your script if necessary\n",
    "\n",
    "If you are working in the classroom workspace, you can just extract features based on the small subset of data contained here. Be sure to transfer over this work to the larger dataset when you work on your Spark cluster."
   ]
  },
  {
   "cell_type": "markdown",
   "metadata": {},
   "source": [
    "### Approach\n",
    "\n",
    "For the machine learning model we will create the following features:\n",
    "\n",
    "Categorical:\n",
    "\n",
    " + gender\n",
    " + most used operating system\n",
    " + level\n",
    "\n",
    "Numerical:\n",
    "\n",
    "+ number of songs per session\n",
    "+ number of add to playlist actions\n",
    "+ number of thumbs down actions\n",
    "+ number of thumbs up actions\n",
    "+ number of friends added actions\n",
    "+ number of distinct artists listened to\n",
    "+ number of days since registering\n",
    "\n",
    "The variable to be predicted will be churned."
   ]
  },
  {
   "cell_type": "markdown",
   "metadata": {},
   "source": [
    "#### Gender\n",
    "\n",
    "Create initial dataframe that will be used for the ML model by only including the userid, the gender and if the user has churned or not. The other features will later be added to this dataframe."
   ]
  },
  {
   "cell_type": "code",
   "execution_count": 70,
   "metadata": {},
   "outputs": [],
   "source": [
    "#starting dataframe for modelling\n",
    "df = event_data.select(\"userId\", \"gender\", \"Churned\").dropDuplicates()"
   ]
  },
  {
   "cell_type": "code",
   "execution_count": 71,
   "metadata": {},
   "outputs": [],
   "source": [
    "# create categorical gender column \n",
    "df = df.withColumn('gender', when(df['gender'] == 'F', 1).otherwise(0))"
   ]
  },
  {
   "cell_type": "markdown",
   "metadata": {},
   "source": [
    "#### Level\n",
    "\n",
    "Create categorical variable per user for latest subscription level i.e. the level of subscription (paid or free with ads) each user has had in his last visible session."
   ]
  },
  {
   "cell_type": "code",
   "execution_count": 72,
   "metadata": {},
   "outputs": [],
   "source": [
    "#create dataframe for finding the level for the last timestamp\n",
    "df_level = event_data.select(\"userId\", \"level\", \"ts\").dropDuplicates().sort(\"userId\")"
   ]
  },
  {
   "cell_type": "code",
   "execution_count": 73,
   "metadata": {},
   "outputs": [],
   "source": [
    "w = Window.partitionBy(\"userId\").orderBy(desc(\"ts\"))"
   ]
  },
  {
   "cell_type": "code",
   "execution_count": 74,
   "metadata": {},
   "outputs": [],
   "source": [
    "df_level = df_level.withColumn(\"ranking\", dense_rank().over(w))"
   ]
  },
  {
   "cell_type": "code",
   "execution_count": 75,
   "metadata": {},
   "outputs": [],
   "source": [
    "df_level = df_level.filter(df_level[\"ranking\"]==1).drop(\"ranking\", \"ts\")"
   ]
  },
  {
   "cell_type": "code",
   "execution_count": 76,
   "metadata": {},
   "outputs": [],
   "source": [
    "#join to main dataframe\n",
    "df = df.join(df_level, on=\"userId\", how=\"left\")"
   ]
  },
  {
   "cell_type": "code",
   "execution_count": 77,
   "metadata": {},
   "outputs": [],
   "source": [
    "# create categorical level column \n",
    "df = df.withColumn('level', when(col('level') == 'paid', 1).otherwise(0))"
   ]
  },
  {
   "cell_type": "markdown",
   "metadata": {},
   "source": [
    "#### Operating System\n",
    "\n",
    "Create categorical variable that determines which operating system the user used most frequently"
   ]
  },
  {
   "cell_type": "code",
   "execution_count": 78,
   "metadata": {},
   "outputs": [],
   "source": [
    "#create dataframe for finding the most frequently used operating system\n",
    "df_os = event_data.select(\"userId\", \"userAgent\", \"sessionId\").dropDuplicates()"
   ]
  },
  {
   "cell_type": "code",
   "execution_count": 79,
   "metadata": {},
   "outputs": [],
   "source": [
    "#extract the os information from the userAgent column\n",
    "\n",
    "# Construct the regular expression pattern using the os_list\n",
    "pattern = '(?i)({0})'.format('|'.join(os_list))\n",
    "\n",
    "# Add a new column \"os\" containing the extracted operating system information\n",
    "df_os = df_os.withColumn(\"os\", regexp_extract(col(\"userAgent\"), pattern, 1))"
   ]
  },
  {
   "cell_type": "code",
   "execution_count": 80,
   "metadata": {},
   "outputs": [],
   "source": [
    "df_os = df_os.groupBy(\"userId\", \"os\").count().sort(\"userId\")"
   ]
  },
  {
   "cell_type": "code",
   "execution_count": 81,
   "metadata": {},
   "outputs": [],
   "source": [
    "w = Window.partitionBy(\"userId\").orderBy(desc(\"count\"))"
   ]
  },
  {
   "cell_type": "code",
   "execution_count": 82,
   "metadata": {},
   "outputs": [],
   "source": [
    "df_os = df_os.withColumn(\"ranking\", dense_rank().over(w))"
   ]
  },
  {
   "cell_type": "code",
   "execution_count": 83,
   "metadata": {},
   "outputs": [],
   "source": [
    "df_os = df_os.filter(df_os[\"ranking\"]==1).drop(\"count\")"
   ]
  },
  {
   "cell_type": "code",
   "execution_count": 84,
   "metadata": {},
   "outputs": [],
   "source": [
    "# create categorical column for different operating systems\n",
    "df_os = df_os.withColumn('os_Mac', when(col('os') == 'Mac', 1).otherwise(0))\n",
    "df_os = df_os.withColumn('os_Linux', when(col('os') == 'Linux', 1).otherwise(0))\n",
    "df_os = df_os.withColumn('os_Windows', when(col('os') == 'Windows', 1).otherwise(0))\n",
    "df_os = df_os.withColumn('os_iPhone', when(col('os') == 'iPhone', 1).otherwise(0))\n",
    "df_os = df_os.withColumn('os_iPad', when(col('os') == 'iPad', 1).otherwise(0))"
   ]
  },
  {
   "cell_type": "code",
   "execution_count": 85,
   "metadata": {},
   "outputs": [],
   "source": [
    "#drop the os and ranking column\n",
    "df_os = df_os.drop(\"os\", \"ranking\")"
   ]
  },
  {
   "cell_type": "code",
   "execution_count": 86,
   "metadata": {},
   "outputs": [],
   "source": [
    "#join to main dataframe\n",
    "df = df.join(df_os, on=\"userId\", how=\"left\")"
   ]
  },
  {
   "cell_type": "markdown",
   "metadata": {},
   "source": [
    "#### Number of Songs per Session\n",
    "\n",
    "Create nummerical variable with mean number of songs per season per user"
   ]
  },
  {
   "cell_type": "code",
   "execution_count": 87,
   "metadata": {},
   "outputs": [],
   "source": [
    "df_songs = event_data.filter(event_data[\"page\"]==\"NextSong\").groupBy(\"userId\", \"sessionId\").count()"
   ]
  },
  {
   "cell_type": "code",
   "execution_count": 88,
   "metadata": {},
   "outputs": [],
   "source": [
    "df_songs = df_songs.groupBy(\"userId\").agg(avg(\"count\").alias(\"mean_songs_per_session\"))"
   ]
  },
  {
   "cell_type": "code",
   "execution_count": 89,
   "metadata": {},
   "outputs": [],
   "source": [
    "#join to main dataframe\n",
    "df = df.join(df_songs, on=\"userId\", how=\"left\")"
   ]
  },
  {
   "cell_type": "markdown",
   "metadata": {},
   "source": [
    "#### Number of add to playlist actions\n",
    "\n",
    "Create nummerical variable with number of add to playlist actions"
   ]
  },
  {
   "cell_type": "code",
   "execution_count": 90,
   "metadata": {},
   "outputs": [],
   "source": [
    "df_add = event_data.filter(event_data[\"page\"]==\"Add to Playlist\").groupBy(\"userId\").count()"
   ]
  },
  {
   "cell_type": "code",
   "execution_count": 91,
   "metadata": {},
   "outputs": [],
   "source": [
    "df_add = df_add.withColumn(\"number_add_playlist_actions\", \n",
    "                                   when(col(\"count\").isNull(), 0).otherwise(col(\"count\"))).drop(\"count\")"
   ]
  },
  {
   "cell_type": "code",
   "execution_count": 92,
   "metadata": {},
   "outputs": [],
   "source": [
    "#join to main dataframe\n",
    "df = df.join(df_add, on=\"userId\", how=\"left\")"
   ]
  },
  {
   "cell_type": "markdown",
   "metadata": {},
   "source": [
    "#### Number of thumbs down actions\n",
    "\n",
    "Create nummerical variable with number of thumbs down actions per user"
   ]
  },
  {
   "cell_type": "code",
   "execution_count": 93,
   "metadata": {},
   "outputs": [],
   "source": [
    "df_down = event_data.filter(event_data[\"page\"]==\"Thumbs Down\").groupBy(\"userId\").count()"
   ]
  },
  {
   "cell_type": "code",
   "execution_count": 94,
   "metadata": {},
   "outputs": [],
   "source": [
    "df_down = df_down.withColumn(\"number_thumbs_down_actions\", \n",
    "                                   when(col(\"count\").isNull(), 0).otherwise(col(\"count\"))).drop(\"count\")"
   ]
  },
  {
   "cell_type": "code",
   "execution_count": 95,
   "metadata": {},
   "outputs": [],
   "source": [
    "#join to main dataframe\n",
    "df = df.join(df_down, on=\"userId\", how=\"left\")"
   ]
  },
  {
   "cell_type": "markdown",
   "metadata": {},
   "source": [
    "#### Number of thumbs up actions\n",
    "\n",
    "Create nummerical variable with number of thumbs up actions per user"
   ]
  },
  {
   "cell_type": "code",
   "execution_count": 96,
   "metadata": {},
   "outputs": [],
   "source": [
    "df_up = event_data.filter(event_data[\"page\"]==\"Thumbs Up\").groupBy(\"userId\").count()"
   ]
  },
  {
   "cell_type": "code",
   "execution_count": 97,
   "metadata": {},
   "outputs": [],
   "source": [
    "df_up = df_up.withColumn(\"number_thumbs_up_actions\", \n",
    "                                   when(col(\"count\").isNull(), 0).otherwise(col(\"count\"))).drop(\"count\")"
   ]
  },
  {
   "cell_type": "code",
   "execution_count": 98,
   "metadata": {},
   "outputs": [],
   "source": [
    "#join to main dataframe\n",
    "df = df.join(df_up, on=\"userId\", how=\"left\")"
   ]
  },
  {
   "cell_type": "markdown",
   "metadata": {},
   "source": [
    "#### Number of friends add actions\n",
    "\n",
    "Create nummerical variable with number of friends adding actions per user"
   ]
  },
  {
   "cell_type": "code",
   "execution_count": 99,
   "metadata": {},
   "outputs": [],
   "source": [
    "df_friend = event_data.filter(event_data[\"page\"]==\"Add Friends\").groupBy(\"userId\").count()"
   ]
  },
  {
   "cell_type": "code",
   "execution_count": 100,
   "metadata": {},
   "outputs": [],
   "source": [
    "df_friend = df_friend.withColumn(\"number_add_friend_actions\", \n",
    "                                   when(col(\"count\").isNull(), 0).otherwise(col(\"count\"))).drop(\"count\")"
   ]
  },
  {
   "cell_type": "code",
   "execution_count": 101,
   "metadata": {},
   "outputs": [],
   "source": [
    "#join to main dataframe\n",
    "df = df.join(df_friend, on=\"userId\", how=\"left\")"
   ]
  },
  {
   "cell_type": "markdown",
   "metadata": {},
   "source": [
    "#### Number of Distinct Artists\n",
    "\n",
    "Create nummerical variable with number of distinct artists listened to per user"
   ]
  },
  {
   "cell_type": "code",
   "execution_count": 102,
   "metadata": {},
   "outputs": [],
   "source": [
    "df_artists = event_data.select(\"userId\", \"artist\").dropDuplicates().groupBy(\"userId\").count()"
   ]
  },
  {
   "cell_type": "code",
   "execution_count": 103,
   "metadata": {},
   "outputs": [],
   "source": [
    "df_artists = df_artists.withColumn(\"number_distinct_artists\", \n",
    "                                   when(col(\"count\").isNull(), 0).otherwise(col(\"count\"))).drop(\"count\")"
   ]
  },
  {
   "cell_type": "code",
   "execution_count": 104,
   "metadata": {},
   "outputs": [],
   "source": [
    "#join to main dataframe\n",
    "df = df.join(df_artists, on=\"userId\", how=\"left\")"
   ]
  },
  {
   "cell_type": "markdown",
   "metadata": {},
   "source": [
    "#### Number of Days since registering\n",
    "\n",
    "Create nummerical variable with the number of days that passed since registering"
   ]
  },
  {
   "cell_type": "code",
   "execution_count": 105,
   "metadata": {},
   "outputs": [],
   "source": [
    "#using the already created df_delta dataframe for the days since registering\n",
    "w = Window.partitionBy(\"userId\").orderBy(desc(\"ts\"))\n",
    "\n",
    "df_delta = df_delta.withColumn(\"ranking\", dense_rank().over(w))"
   ]
  },
  {
   "cell_type": "code",
   "execution_count": 106,
   "metadata": {},
   "outputs": [],
   "source": [
    "df_delta = df_delta.filter(df_delta[\"ranking\"]==1)"
   ]
  },
  {
   "cell_type": "code",
   "execution_count": 107,
   "metadata": {},
   "outputs": [],
   "source": [
    "df_delta = df_delta.select(\"userId\", \"delta_in_days\")"
   ]
  },
  {
   "cell_type": "code",
   "execution_count": 108,
   "metadata": {},
   "outputs": [],
   "source": [
    "#join to main dataframe\n",
    "df = df.join(df_delta, on=\"userId\", how=\"left\")"
   ]
  },
  {
   "cell_type": "code",
   "execution_count": 109,
   "metadata": {},
   "outputs": [],
   "source": [
    "#set all the null values to 0\n",
    "for col in df.columns:\n",
    "    df = df.withColumn(col, when(df[col].isNull(), 0).otherwise(df[col]))"
   ]
  },
  {
   "cell_type": "code",
   "execution_count": 110,
   "metadata": {},
   "outputs": [],
   "source": [
    "# drop the userid column\n",
    "df = df.drop(\"userId\")"
   ]
  },
  {
   "cell_type": "code",
   "execution_count": 111,
   "metadata": {},
   "outputs": [
    {
     "name": "stdout",
     "output_type": "stream",
     "text": [
      "root\n",
      " |-- gender: integer (nullable = false)\n",
      " |-- Churned: integer (nullable = true)\n",
      " |-- level: integer (nullable = false)\n",
      " |-- os_Mac: integer (nullable = true)\n",
      " |-- os_Linux: integer (nullable = true)\n",
      " |-- os_Windows: integer (nullable = true)\n",
      " |-- os_iPhone: integer (nullable = true)\n",
      " |-- os_iPad: integer (nullable = true)\n",
      " |-- mean_songs_per_session: double (nullable = true)\n",
      " |-- number_add_playlist_actions: long (nullable = true)\n",
      " |-- number_thumbs_down_actions: long (nullable = true)\n",
      " |-- number_thumbs_up_actions: long (nullable = true)\n",
      " |-- number_add_friend_actions: long (nullable = true)\n",
      " |-- number_distinct_artists: long (nullable = true)\n",
      " |-- delta_in_days: double (nullable = true)\n",
      "\n"
     ]
    }
   ],
   "source": [
    "df.printSchema()"
   ]
  },
  {
   "cell_type": "code",
   "execution_count": 112,
   "metadata": {},
   "outputs": [],
   "source": [
    "#convert every column into nummerical datatypes\n",
    "for col in df.columns:\n",
    "    df = df.withColumn(col, df[col].cast('float'))"
   ]
  },
  {
   "cell_type": "code",
   "execution_count": 113,
   "metadata": {},
   "outputs": [],
   "source": [
    "df = df.withColumnRenamed(\"Churned\", \"label\")"
   ]
  },
  {
   "cell_type": "markdown",
   "metadata": {},
   "source": [
    "### vector assembler & standardization\n",
    "\n",
    "the vector assembler transforms all the columns into vectors so they can be standardized in the next step"
   ]
  },
  {
   "cell_type": "code",
   "execution_count": 114,
   "metadata": {},
   "outputs": [],
   "source": [
    "assembler = VectorAssembler(inputCols = [\"gender\", \"level\", \"os_Mac\", \"os_Linux\", \"os_Windows\", \"os_iPhone\", \\\n",
    "                                         \"os_iPad\", \"mean_songs_per_session\", \"number_add_playlist_actions\", \\\n",
    "                                         \"number_thumbs_down_actions\", \"number_thumbs_up_actions\", \"number_add_friend_actions\", \\\n",
    "                                        \"number_distinct_artists\", \"delta_in_days\"],  outputCol = \"vec_features\")"
   ]
  },
  {
   "cell_type": "code",
   "execution_count": 115,
   "metadata": {},
   "outputs": [],
   "source": [
    "vectorized_df = assembler.transform(df)"
   ]
  },
  {
   "cell_type": "code",
   "execution_count": 116,
   "metadata": {},
   "outputs": [],
   "source": [
    "scaler = StandardScaler(inputCol=\"vec_features\", outputCol=\"features\", withStd=True)"
   ]
  },
  {
   "cell_type": "code",
   "execution_count": 117,
   "metadata": {},
   "outputs": [],
   "source": [
    "scaler_model = scaler.fit(vectorized_df)"
   ]
  },
  {
   "cell_type": "code",
   "execution_count": 118,
   "metadata": {},
   "outputs": [],
   "source": [
    "scaled_df = scaler_model.transform(vectorized_df)"
   ]
  },
  {
   "cell_type": "markdown",
   "metadata": {},
   "source": [
    "# Modeling\n",
    "Split the full dataset into train, test, and validation sets. Test out several of the machine learning methods you learned. Evaluate the accuracy of the various models, tuning parameters as necessary. Determine your winning model based on test accuracy and report results on the validation set. Since the churned users are a fairly small subset, I suggest using F1 score as the metric to optimize."
   ]
  },
  {
   "cell_type": "markdown",
   "metadata": {},
   "source": [
    "### Train Test Split\n",
    "we now split our dataframe in train, test and validation datasets"
   ]
  },
  {
   "cell_type": "code",
   "execution_count": 119,
   "metadata": {
    "scrolled": true
   },
   "outputs": [
    {
     "name": "stdout",
     "output_type": "stream",
     "text": [
      "The Training Dataset has a lenght of: 142\n",
      "The Test Dataset has a length of: 49\n",
      "The Validation Dataset has a lenght of: 34\n"
     ]
    }
   ],
   "source": [
    "train, test, valid = scaled_df.randomSplit([0.6, 0.2, 0.2], seed = 42)\n",
    "print(\"The Training Dataset has a lenght of: \" + str(train.count()))\n",
    "print(\"The Test Dataset has a length of: \" + str(test.count()))\n",
    "print(\"The Validation Dataset has a lenght of: \" + str(valid.count()))"
   ]
  },
  {
   "cell_type": "markdown",
   "metadata": {},
   "source": [
    "### Model training and evaluation\n",
    "\n",
    "we select 4 different ML classifiers to be trained and evaluated and then continue with the most promising one for the further optimization."
   ]
  },
  {
   "cell_type": "code",
   "execution_count": 120,
   "metadata": {},
   "outputs": [],
   "source": [
    "# instantiation of 5 different models\n",
    "log_reg = LogisticRegression(featuresCol = 'features', labelCol = 'label', maxIter=10)\n",
    "gbt = GBTClassifier(featuresCol = 'features', labelCol = 'label', maxIter=10, seed=42)\n",
    "naive_bayes = NaiveBayes(featuresCol = 'features', labelCol = 'label')\n",
    "random_forrest = RandomForestClassifier(featuresCol = 'features', labelCol = 'label', seed=42)"
   ]
  },
  {
   "cell_type": "code",
   "execution_count": 121,
   "metadata": {},
   "outputs": [],
   "source": [
    "#list of models\n",
    "model_list = [log_reg, gbt, naive_bayes, random_forrest]\n",
    "\n",
    "#model_list = [random_forrest]"
   ]
  },
  {
   "cell_type": "code",
   "execution_count": 122,
   "metadata": {},
   "outputs": [],
   "source": [
    "# usage of multiclassclassificationevaluator \n",
    "evaluator = MulticlassClassificationEvaluator(labelCol = 'label', predictionCol='prediction')"
   ]
  },
  {
   "cell_type": "markdown",
   "metadata": {},
   "source": [
    "Evaluation of ML models with f1-score and accuracy.\n",
    "\n",
    "Accuracy: It measures the proportion of correctly predicted instances (both true positives and true negatives) out of the total instances. While accuracy is important, it might not be the best metric when dealing with imbalanced datasets where one class significantly outnumbers the other. In such cases, accuracy might be misleading as a high accuracy can be achieved by simply predicting the majority class.\n",
    "\n",
    "F1 Score: It is the harmonic mean of precision and recall. F1 score provides a balance between precision (the proportion of correctly predicted positive instances out of all predicted positive instances) and recall (the proportion of correctly predicted positive instances out of all actual positive instances). F1 score is particularly useful when dealing with imbalanced datasets as it considers both false positives and false negatives.\n",
    "\n",
    "That is why in the case of this dataset the f1-score is better for evaluating the models."
   ]
  },
  {
   "cell_type": "code",
   "execution_count": 123,
   "metadata": {},
   "outputs": [
    {
     "name": "stdout",
     "output_type": "stream",
     "text": [
      "For the LogisticRegression model the training has started\n",
      "For the LogisticRegression model the training has ended\n",
      "For the LogisticRegression model, the training took 347.4583308696747 seconds\n",
      "For the model LogisticRegression the f1-score is 0.5707013574660633\n",
      "For the model LogisticRegression the accuracy is 0.6470588235294118\n",
      "For the GBTClassifier model the training has started\n",
      "For the GBTClassifier model the training has ended\n",
      "For the GBTClassifier model, the training took 407.00588512420654 seconds\n",
      "For the model GBTClassifier the f1-score is 0.6161764705882353\n",
      "For the model GBTClassifier the accuracy is 0.6470588235294118\n",
      "For the NaiveBayes model the training has started\n",
      "For the NaiveBayes model the training has ended\n",
      "For the NaiveBayes model, the training took 291.0699932575226 seconds\n",
      "For the model NaiveBayes the f1-score is 0.5745245466607696\n",
      "For the model NaiveBayes the accuracy is 0.6176470588235294\n",
      "For the RandomForestClassifier model the training has started\n",
      "For the RandomForestClassifier model the training has ended\n",
      "For the RandomForestClassifier model, the training took 398.984904050827 seconds\n",
      "For the model RandomForestClassifier the f1-score is 0.6885813148788927\n",
      "For the model RandomForestClassifier the accuracy is 0.7352941176470589\n"
     ]
    }
   ],
   "source": [
    "model_names = []\n",
    "train_times = []\n",
    "f1_scores = []\n",
    "accuracies = []\n",
    "\n",
    "for model in model_list:\n",
    "    # get model name\n",
    "    model_name = model.__class__.__name__\n",
    "    model_names.append(model_name)\n",
    "    \n",
    "    #set start time for model training\n",
    "    start_time = time.time()\n",
    "    print(f\"For the {model_name} model the training has started\")\n",
    "    \n",
    "    #fit model\n",
    "    model = model.fit(train)\n",
    "    \n",
    "    #predict values\n",
    "    pred = model.transform(valid)\n",
    "    \n",
    "    #set end time for model training\n",
    "    end_time = time.time()\n",
    "    print(f\"For the {model_name} model the training has ended\")\n",
    "    train_time = end_time - start_time\n",
    "    train_times.append(train_time)\n",
    "    print(f\"For the {model_name} model, the training took {train_time} seconds\")\n",
    "    \n",
    "    # calculate f1 score\n",
    "    f1_score = evaluator.evaluate(pred, {evaluator.metricName: \"f1\"})\n",
    "    print(f\"For the model {model_name} the f1-score is {f1_score}\")\n",
    "    f1_scores.append(f1_score)\n",
    "    \n",
    "    # calculate accuracy\n",
    "    acc = pred.filter(pred.label == pred.prediction).count() / (pred.count())\n",
    "    print(f\"For the model {model_name} the accuracy is {acc}\")\n",
    "    accuracies.append(acc)"
   ]
  },
  {
   "cell_type": "code",
   "execution_count": 124,
   "metadata": {},
   "outputs": [
    {
     "data": {
      "image/png": "[encoded data removed]",
      "text/plain": [
       "<matplotlib.figure.Figure at 0x7f50327c1438>"
      ]
     },
     "metadata": {
      "needs_background": "light"
     },
     "output_type": "display_data"
    }
   ],
   "source": [
    "#plotting the results for the different models\n",
    "\n",
    "# Plotting f1 scores\n",
    "plt.figure(figsize=(14, 6))\n",
    "plt.subplot(1, 3, 1)\n",
    "plt.bar(model_names, f1_scores, color='skyblue')\n",
    "plt.title('F1 Score Comparison')\n",
    "plt.xlabel('Model')\n",
    "plt.ylabel('F1 Score')\n",
    "plt.xticks(rotation=45)\n",
    "\n",
    "# Plotting accuracies\n",
    "plt.subplot(1, 3, 2)\n",
    "plt.bar(model_names, accuracies, color='salmon')\n",
    "plt.title('Accuracy Comparison')\n",
    "plt.xlabel('Model')\n",
    "plt.ylabel('Accuracy')\n",
    "plt.xticks(rotation=56)\n",
    "\n",
    "\n",
    "# Plotting training times\n",
    "plt.subplot(1, 3, 3)\n",
    "plt.bar(model_names, train_times, color='lightgreen')\n",
    "plt.title('Training Time Comparison')\n",
    "plt.xlabel('Model')\n",
    "plt.ylabel('Training Time (seconds)')\n",
    "plt.xticks(rotation=45)\n",
    "\n",
    "plt.tight_layout()\n",
    "plt.show()"
   ]
  },
  {
   "cell_type": "markdown",
   "metadata": {},
   "source": [
    "### Model optimization\n",
    "\n",
    "We will now further tweak the parameters of our most performant model, which in our case is the random forrest model with a f1-score of 0,68 and a training time of about 400 seconds."
   ]
  },
  {
   "cell_type": "code",
   "execution_count": 127,
   "metadata": {},
   "outputs": [],
   "source": [
    "paramGrid = ParamGridBuilder() \\\n",
    "    .addGrid(random_forrest.numTrees,[10, 20, 50]) \\\n",
    "    .addGrid(random_forrest.maxDepth,[5, 10, 15]) \\\n",
    "    .build()\n",
    "\n",
    "\n",
    "cv = CrossValidator(estimator=random_forrest,\n",
    "                          estimatorParamMaps=paramGrid,\n",
    "                          evaluator=MulticlassClassificationEvaluator(metricName = \"f1\"),\n",
    "                          numFolds=3)"
   ]
  },
  {
   "cell_type": "code",
   "execution_count": 128,
   "metadata": {},
   "outputs": [],
   "source": [
    "cv_model = cv.fit(train)"
   ]
  },
  {
   "cell_type": "code",
   "execution_count": 129,
   "metadata": {},
   "outputs": [
    {
     "data": {
      "text/plain": [
       "[0.7828084159504247,\n",
       " 0.7737434068854157,\n",
       " 0.7686190501659838,\n",
       " 0.7584142571376613,\n",
       " 0.7495087330799692,\n",
       " 0.7495087330799692,\n",
       " 0.7261129457522815,\n",
       " 0.7246539509750791,\n",
       " 0.7246539509750791]"
      ]
     },
     "execution_count": 129,
     "metadata": {},
     "output_type": "execute_result"
    }
   ],
   "source": [
    "cv_model.avgMetrics"
   ]
  },
  {
   "cell_type": "code",
   "execution_count": 130,
   "metadata": {},
   "outputs": [],
   "source": [
    "predictions = cv_model.transform(valid)"
   ]
  },
  {
   "cell_type": "code",
   "execution_count": 131,
   "metadata": {},
   "outputs": [],
   "source": [
    "best_model = cv_model.bestModel"
   ]
  },
  {
   "cell_type": "code",
   "execution_count": 132,
   "metadata": {},
   "outputs": [
    {
     "name": "stdout",
     "output_type": "stream",
     "text": [
      "The best parameter for the hyperparameter numTrees is:  10\n",
      "The best parameter for the hyperparameter MaxDepth is:  5\n"
     ]
    }
   ],
   "source": [
    "print (\"The best parameter for the hyperparameter numTrees is: \", best_model._java_obj.getNumTrees())\n",
    "print (\"The best parameter for the hyperparameter MaxDepth is: \", best_model._java_obj.getMaxDepth())"
   ]
  },
  {
   "cell_type": "code",
   "execution_count": 133,
   "metadata": {},
   "outputs": [
    {
     "name": "stdout",
     "output_type": "stream",
     "text": [
      "The f1-score for the best parameters is 0.6193771626297577\n"
     ]
    }
   ],
   "source": [
    "f1 = evaluator.evaluate(predictions, {evaluator.metricName: \"f1\"})\n",
    "print(f\"The f1-score for the best parameters is {f1}\")"
   ]
  },
  {
   "cell_type": "code",
   "execution_count": 134,
   "metadata": {},
   "outputs": [
    {
     "name": "stdout",
     "output_type": "stream",
     "text": [
      "The accuracy for the best parameters is 0.6764705882352942\n"
     ]
    }
   ],
   "source": [
    "accuracy = evaluator.evaluate(predictions, {evaluator.metricName: \"accuracy\"})\n",
    "print(f\"The accuracy for the best parameters is {accuracy}\")"
   ]
  },
  {
   "cell_type": "markdown",
   "metadata": {},
   "source": [
    "The results of the cross validation show that the f1-score actually decreased. The possible explanation for that is the occurrence of overfitting in the orgiginal model. \n",
    "Overfitting occurs when a machine learning model learns to capture the noise in the training data rather than the underlying pattern, leading to poor generalization to unseen data. Several factors can contribute to overfitting:\n",
    "\n",
    "-Too many features: Including a large number of irrelevant or redundant features in the model can lead to overfitting. These features add noise to the model and can cause it to learn patterns that are specific to the training data but do not generalize well to new data.\n",
    "\n",
    "-Complexity of the model: Using a highly complex model with a large number of parameters can increase the risk of overfitting. Complex models have high capacity to learn intricate patterns in the training data, including noise, which may not generalize well to new data.\n",
    "\n",
    "In our case we could decrease the number of features and see if the f1 score increases after crossvalidation."
   ]
  },
  {
   "cell_type": "markdown",
   "metadata": {},
   "source": [
    "### Checking for the importance per feature"
   ]
  },
  {
   "cell_type": "code",
   "execution_count": 135,
   "metadata": {},
   "outputs": [],
   "source": [
    "feat_importance = best_model.featureImportances"
   ]
  },
  {
   "cell_type": "code",
   "execution_count": 136,
   "metadata": {},
   "outputs": [],
   "source": [
    "x = list(range(len(feat_importance)))"
   ]
  },
  {
   "cell_type": "code",
   "execution_count": 137,
   "metadata": {},
   "outputs": [],
   "source": [
    "feat_list = list([\"gender\", \"level\", \"os_Mac\", \"os_Linux\", \"os_Windows\", \"os_iPhone\", \\\n",
    "                                         \"os_iPad\", \"mean_songs_per_session\", \"number_add_playlist_actions\", \\\n",
    "                                         \"number_thumbs_down_actions\", \"number_thumbs_up_actions\", \"number_add_friend_actions\", \\\n",
    "                                         \"number_distinct_artists\", \"delta_in_days\"])"
   ]
  },
  {
   "cell_type": "code",
   "execution_count": 138,
   "metadata": {},
   "outputs": [
    {
     "data": {
      "image/png": "[encoded data removed]",
      "text/plain": [
       "<matplotlib.figure.Figure at 0x7f50313662b0>"
      ]
     },
     "metadata": {
      "needs_background": "light"
     },
     "output_type": "display_data"
    }
   ],
   "source": [
    "plt.figure(figsize=[18,6])\n",
    "plt.bar(x, feat_importance, orientation = 'vertical')\n",
    "plt.xticks(x, feat_list, rotation=40)\n",
    "plt.ylabel('Importance')\n",
    "plt.xlabel('Feature')\n",
    "plt.title('Feature Importance');"
   ]
  },
  {
   "cell_type": "code",
   "execution_count": 139,
   "metadata": {},
   "outputs": [
    {
     "data": {
      "text/plain": [
       "SparseVector(14, {0: 0.0189, 1: 0.0349, 2: 0.018, 4: 0.0012, 5: 0.0247, 7: 0.0723, 8: 0.1536, 9: 0.1101, 10: 0.1456, 12: 0.0961, 13: 0.3245})"
      ]
     },
     "execution_count": 139,
     "metadata": {},
     "output_type": "execute_result"
    }
   ],
   "source": [
    "feat_importance"
   ]
  },
  {
   "cell_type": "markdown",
   "metadata": {},
   "source": [
    "## Conclusion"
   ]
  },
  {
   "cell_type": "markdown",
   "metadata": {},
   "source": [
    "In this project we worked with a small dataset of 128 MB with usage data for a subscription services similar to spotify or apple music. We first analysed the data to further understand it and in order to work with it. We then cleaned it so it could be processed. We then dove into feature engineering to derive the features that would have a good impact on predicting the subscription churns. We then trained different machine learning models to predict those churns. The most promising machine learning model was the random forrest classifier with an accuracy of ... and an f1 score of ..."
   ]
  },
  {
   "cell_type": "markdown",
   "metadata": {},
   "source": [
    "### Room for improvement\n",
    "\n",
    "+ Since in this case only a small subset of the data was used, a better model could be developed with the whole 12GB dataset\n",
    "+ The overfitting problem would need to be looked at by overdoing the feature enigineering part and dismissing a couple of variables"
   ]
  }
 ],
 "metadata": {
  "kernelspec": {
   "display_name": "Python 3",
   "language": "python",
   "name": "python3"
  },
  "language_info": {
   "codemirror_mode": {
    "name": "ipython",
    "version": 3
   },
   "file_extension": ".py",
   "mimetype": "text/x-python",
   "name": "python",
   "nbconvert_exporter": "python",
   "pygments_lexer": "ipython3",
   "version": "3.6.3"
  }
 },
 "nbformat": 4,
 "nbformat_minor": 2
}
